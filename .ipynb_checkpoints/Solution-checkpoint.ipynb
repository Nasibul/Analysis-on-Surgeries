{
 "cells": [
  {
   "cell_type": "code",
   "execution_count": 1,
   "id": "42dedb72",
   "metadata": {},
   "outputs": [],
   "source": [
    "import pandas as pd\n",
    "import numpy as np\n",
    "import seaborn as sns\n",
    "import matplotlib.pyplot as plt\n",
    "import statistics\n",
    "import sqlite3\n",
    "#The basic packages are imported"
   ]
  },
  {
   "cell_type": "markdown",
   "id": "a4b9b219",
   "metadata": {},
   "source": [
    "# Setup of Medical Codes, Records Acquisition and Data Wrangling/Cleaning"
   ]
  },
  {
   "cell_type": "code",
   "execution_count": 2,
   "id": "a81c3ec3",
   "metadata": {},
   "outputs": [],
   "source": [
    "database_file = 'claims.db'\n",
    "med_query = \"SELECT * FROM medical_headers\"\n",
    "procedures_query = \"SELECT * FROM medical_service_lines\"\n",
    "diag_col = ['D'+str(i) for i in range(1,26)]\n",
    "diag_col.insert(0,'DA')\n",
    "PCS_col = ['P'+str(i) for i in range(1,16)]\n",
    "numerator_codes_diag = []\n",
    "numerator_codes_CPT = ['44110','44146','44150','44151','44155','44156','44157','44158','44160','44204','44205','44206',\\\n",
    "                       '44207','44208','44210','44211','44212']\n",
    "numerator_codes_PCS = ['45.71','45.72','45.73','45.74','45.75','45.76','45.79','45.81','45.82','45.83']\n",
    "denominator_codes_diag = ['211.3','211.4']\n",
    "denominator_codes_CPT = []\n",
    "denominator_codes_PCS = []\n",
    "exclude_codes_diag = ['152.0','152.1','152.2','152.3','152.8','152.9']\n",
    "exclude_codes_CPT = []\n",
    "exclude_codes_PCS = []"
   ]
  },
  {
   "cell_type": "code",
   "execution_count": 3,
   "id": "5e0ae498",
   "metadata": {},
   "outputs": [],
   "source": [
    "import records as r\n",
    "appointments, procedures = r.get_records(database_file, med_query, procedures_query)"
   ]
  },
  {
   "cell_type": "code",
   "execution_count": 4,
   "id": "29c6e2a9",
   "metadata": {},
   "outputs": [
    {
     "data": {
      "text/html": [
       "<div>\n",
       "<style scoped>\n",
       "    .dataframe tbody tr th:only-of-type {\n",
       "        vertical-align: middle;\n",
       "    }\n",
       "\n",
       "    .dataframe tbody tr th {\n",
       "        vertical-align: top;\n",
       "    }\n",
       "\n",
       "    .dataframe thead th {\n",
       "        text-align: right;\n",
       "    }\n",
       "</style>\n",
       "<table border=\"1\" class=\"dataframe\">\n",
       "  <thead>\n",
       "    <tr style=\"text-align: right;\">\n",
       "      <th></th>\n",
       "      <th>index</th>\n",
       "      <th>encounter_key</th>\n",
       "      <th>claim_type_code</th>\n",
       "      <th>icd_type</th>\n",
       "      <th>discharge_status_code</th>\n",
       "      <th>admit_type_code</th>\n",
       "      <th>DA</th>\n",
       "      <th>D1</th>\n",
       "      <th>D2</th>\n",
       "      <th>D3</th>\n",
       "      <th>...</th>\n",
       "      <th>P11</th>\n",
       "      <th>P12</th>\n",
       "      <th>P13</th>\n",
       "      <th>P14</th>\n",
       "      <th>P15</th>\n",
       "      <th>patient_id</th>\n",
       "      <th>total_claim_charge_amount</th>\n",
       "      <th>bill_type_code</th>\n",
       "      <th>doctor_id</th>\n",
       "      <th>hospital_id</th>\n",
       "    </tr>\n",
       "  </thead>\n",
       "  <tbody>\n",
       "    <tr>\n",
       "      <th>0</th>\n",
       "      <td>0</td>\n",
       "      <td>fb9b260015b760e0a5c732a5e38c59cac3b03f422a16d8...</td>\n",
       "      <td>I</td>\n",
       "      <td>9</td>\n",
       "      <td>07</td>\n",
       "      <td>1</td>\n",
       "      <td>68.26</td>\n",
       "      <td>707.05</td>\n",
       "      <td>730.15</td>\n",
       "      <td>70.54</td>\n",
       "      <td>...</td>\n",
       "      <td></td>\n",
       "      <td></td>\n",
       "      <td></td>\n",
       "      <td></td>\n",
       "      <td></td>\n",
       "      <td>97f755b9e898334c3928ea66c0d976b4c57ae681f0c36e...</td>\n",
       "      <td>000000800365</td>\n",
       "      <td>111</td>\n",
       "      <td>43fd7855edf7b2ae330511f85e3779caad4382cf7377e0...</td>\n",
       "      <td>4bd1a0e54c79caff0fdfae9bf8a54b036aa05558849c12...</td>\n",
       "    </tr>\n",
       "    <tr>\n",
       "      <th>1</th>\n",
       "      <td>1</td>\n",
       "      <td>6d86bb8c0c2f8b09768b99af9fe566be64f54f45b835ad...</td>\n",
       "      <td>I</td>\n",
       "      <td>9</td>\n",
       "      <td>03</td>\n",
       "      <td>1</td>\n",
       "      <td>57.89</td>\n",
       "      <td>57.89</td>\n",
       "      <td>3.8</td>\n",
       "      <td>785.59</td>\n",
       "      <td>...</td>\n",
       "      <td></td>\n",
       "      <td></td>\n",
       "      <td></td>\n",
       "      <td></td>\n",
       "      <td></td>\n",
       "      <td>43a6da3529f59c802ff679d200955b74f7e8dabffce999...</td>\n",
       "      <td>000006603253</td>\n",
       "      <td>111</td>\n",
       "      <td>779e2d9b0c1d92f753ad1f937fd875b65a8dadd59ff59a...</td>\n",
       "      <td>19d7f933040df548188dc2076112ff872a904335cabf5d...</td>\n",
       "    </tr>\n",
       "    <tr>\n",
       "      <th>2</th>\n",
       "      <td>2</td>\n",
       "      <td>af38285ba71374e01eef09949b6c67ff704af48f3bbabb...</td>\n",
       "      <td>I</td>\n",
       "      <td>9</td>\n",
       "      <td>01</td>\n",
       "      <td>1</td>\n",
       "      <td>786.5</td>\n",
       "      <td>288.03</td>\n",
       "      <td>0.42</td>\n",
       "      <td>296.2</td>\n",
       "      <td>...</td>\n",
       "      <td></td>\n",
       "      <td></td>\n",
       "      <td></td>\n",
       "      <td></td>\n",
       "      <td></td>\n",
       "      <td>fa0f0f8a17bab031934344709a9c14e6a735554c2089a0...</td>\n",
       "      <td>000005983241</td>\n",
       "      <td>117</td>\n",
       "      <td>e709515f1e614f41092b9c4a82029654145190d06a9d41...</td>\n",
       "      <td>e2d66df225bfda151073edd988c1cb105f154d04a21837...</td>\n",
       "    </tr>\n",
       "    <tr>\n",
       "      <th>3</th>\n",
       "      <td>3</td>\n",
       "      <td>2398ae5f8761928bf5286c210e2c7fabe06c5d04286bc9...</td>\n",
       "      <td>I</td>\n",
       "      <td>9</td>\n",
       "      <td>01</td>\n",
       "      <td>1</td>\n",
       "      <td>427.31</td>\n",
       "      <td>58.49</td>\n",
       "      <td>0.42</td>\n",
       "      <td>27.67</td>\n",
       "      <td>...</td>\n",
       "      <td></td>\n",
       "      <td></td>\n",
       "      <td></td>\n",
       "      <td></td>\n",
       "      <td></td>\n",
       "      <td>68fa7bb2bd832ecaa20144c7f297849b46d6244731d145...</td>\n",
       "      <td>000004256654</td>\n",
       "      <td>111</td>\n",
       "      <td>274cd8bd73dfc81841a22e5a3cca45173be7abdc2b39b7...</td>\n",
       "      <td>19d7f933040df548188dc2076112ff872a904335cabf5d...</td>\n",
       "    </tr>\n",
       "    <tr>\n",
       "      <th>4</th>\n",
       "      <td>4</td>\n",
       "      <td>5f67ba33d85e9324464a330b5e14bc9e96768a0445cada...</td>\n",
       "      <td>I</td>\n",
       "      <td>9</td>\n",
       "      <td>01</td>\n",
       "      <td>4</td>\n",
       "      <td>74.7</td>\n",
       "      <td>74.7</td>\n",
       "      <td>77.07</td>\n",
       "      <td></td>\n",
       "      <td>...</td>\n",
       "      <td></td>\n",
       "      <td></td>\n",
       "      <td></td>\n",
       "      <td></td>\n",
       "      <td></td>\n",
       "      <td>3388281fb1d53667d6f7b8731d166680ae00b7fefb4535...</td>\n",
       "      <td>000081897066</td>\n",
       "      <td>111</td>\n",
       "      <td>ddbf0a09050825857a825b43a25d21ab3525d8cfea3f44...</td>\n",
       "      <td>daedcd574abd3b36b4fbdec0b08762bb37107eee207732...</td>\n",
       "    </tr>\n",
       "  </tbody>\n",
       "</table>\n",
       "<p>5 rows × 53 columns</p>\n",
       "</div>"
      ],
      "text/plain": [
       "   index                                      encounter_key claim_type_code  \\\n",
       "0      0  fb9b260015b760e0a5c732a5e38c59cac3b03f422a16d8...               I   \n",
       "1      1  6d86bb8c0c2f8b09768b99af9fe566be64f54f45b835ad...               I   \n",
       "2      2  af38285ba71374e01eef09949b6c67ff704af48f3bbabb...               I   \n",
       "3      3  2398ae5f8761928bf5286c210e2c7fabe06c5d04286bc9...               I   \n",
       "4      4  5f67ba33d85e9324464a330b5e14bc9e96768a0445cada...               I   \n",
       "\n",
       "  icd_type discharge_status_code admit_type_code      DA      D1      D2  \\\n",
       "0        9                    07               1   68.26  707.05  730.15   \n",
       "1        9                    03               1   57.89   57.89     3.8   \n",
       "2        9                    01               1   786.5  288.03    0.42   \n",
       "3        9                    01               1  427.31   58.49    0.42   \n",
       "4        9                    01               4    74.7    74.7   77.07   \n",
       "\n",
       "       D3  ... P11 P12 P13 P14 P15  \\\n",
       "0   70.54  ...                       \n",
       "1  785.59  ...                       \n",
       "2   296.2  ...                       \n",
       "3   27.67  ...                       \n",
       "4          ...                       \n",
       "\n",
       "                                          patient_id  \\\n",
       "0  97f755b9e898334c3928ea66c0d976b4c57ae681f0c36e...   \n",
       "1  43a6da3529f59c802ff679d200955b74f7e8dabffce999...   \n",
       "2  fa0f0f8a17bab031934344709a9c14e6a735554c2089a0...   \n",
       "3  68fa7bb2bd832ecaa20144c7f297849b46d6244731d145...   \n",
       "4  3388281fb1d53667d6f7b8731d166680ae00b7fefb4535...   \n",
       "\n",
       "  total_claim_charge_amount bill_type_code  \\\n",
       "0              000000800365            111   \n",
       "1              000006603253            111   \n",
       "2              000005983241            117   \n",
       "3              000004256654            111   \n",
       "4              000081897066            111   \n",
       "\n",
       "                                           doctor_id  \\\n",
       "0  43fd7855edf7b2ae330511f85e3779caad4382cf7377e0...   \n",
       "1  779e2d9b0c1d92f753ad1f937fd875b65a8dadd59ff59a...   \n",
       "2  e709515f1e614f41092b9c4a82029654145190d06a9d41...   \n",
       "3  274cd8bd73dfc81841a22e5a3cca45173be7abdc2b39b7...   \n",
       "4  ddbf0a09050825857a825b43a25d21ab3525d8cfea3f44...   \n",
       "\n",
       "                                         hospital_id  \n",
       "0  4bd1a0e54c79caff0fdfae9bf8a54b036aa05558849c12...  \n",
       "1  19d7f933040df548188dc2076112ff872a904335cabf5d...  \n",
       "2  e2d66df225bfda151073edd988c1cb105f154d04a21837...  \n",
       "3  19d7f933040df548188dc2076112ff872a904335cabf5d...  \n",
       "4  daedcd574abd3b36b4fbdec0b08762bb37107eee207732...  \n",
       "\n",
       "[5 rows x 53 columns]"
      ]
     },
     "execution_count": 4,
     "metadata": {},
     "output_type": "execute_result"
    }
   ],
   "source": [
    "appointments.head()"
   ]
  },
  {
   "cell_type": "code",
   "execution_count": 5,
   "id": "6b714741",
   "metadata": {},
   "outputs": [
    {
     "data": {
      "text/html": [
       "<div>\n",
       "<style scoped>\n",
       "    .dataframe tbody tr th:only-of-type {\n",
       "        vertical-align: middle;\n",
       "    }\n",
       "\n",
       "    .dataframe tbody tr th {\n",
       "        vertical-align: top;\n",
       "    }\n",
       "\n",
       "    .dataframe thead th {\n",
       "        text-align: right;\n",
       "    }\n",
       "</style>\n",
       "<table border=\"1\" class=\"dataframe\">\n",
       "  <thead>\n",
       "    <tr style=\"text-align: right;\">\n",
       "      <th></th>\n",
       "      <th>index</th>\n",
       "      <th>encounter_key</th>\n",
       "      <th>procedure</th>\n",
       "      <th>modifier1</th>\n",
       "      <th>modifier2</th>\n",
       "      <th>units</th>\n",
       "      <th>line_charge</th>\n",
       "      <th>revenue_code</th>\n",
       "    </tr>\n",
       "  </thead>\n",
       "  <tbody>\n",
       "    <tr>\n",
       "      <th>0</th>\n",
       "      <td>0</td>\n",
       "      <td>60753fb8981fded7463adac015061ad8ea873f9dbb1243...</td>\n",
       "      <td>None</td>\n",
       "      <td>None</td>\n",
       "      <td>None</td>\n",
       "      <td>00000000</td>\n",
       "      <td>0000049553</td>\n",
       "      <td>0922</td>\n",
       "    </tr>\n",
       "    <tr>\n",
       "      <th>1</th>\n",
       "      <td>1</td>\n",
       "      <td>0ebaa8eb56d7875466394cea1b9e6089545c40be46cadf...</td>\n",
       "      <td>None</td>\n",
       "      <td>None</td>\n",
       "      <td>None</td>\n",
       "      <td>00000014</td>\n",
       "      <td>0005880000</td>\n",
       "      <td>0164</td>\n",
       "    </tr>\n",
       "    <tr>\n",
       "      <th>2</th>\n",
       "      <td>2</td>\n",
       "      <td>ca2ce480be85638fe393904208902e6461b758923d67ee...</td>\n",
       "      <td>None</td>\n",
       "      <td>None</td>\n",
       "      <td>None</td>\n",
       "      <td>None</td>\n",
       "      <td>None</td>\n",
       "      <td>None</td>\n",
       "    </tr>\n",
       "    <tr>\n",
       "      <th>3</th>\n",
       "      <td>3</td>\n",
       "      <td>39b8c3c6c585a6d174439b0b04893f30b85f6355da0b4b...</td>\n",
       "      <td>None</td>\n",
       "      <td>None</td>\n",
       "      <td>None</td>\n",
       "      <td>None</td>\n",
       "      <td>None</td>\n",
       "      <td>None</td>\n",
       "    </tr>\n",
       "    <tr>\n",
       "      <th>4</th>\n",
       "      <td>4</td>\n",
       "      <td>b90660df8c48aa4024149dc32e19beda1937daf6ec5192...</td>\n",
       "      <td>None</td>\n",
       "      <td>None</td>\n",
       "      <td>None</td>\n",
       "      <td>00000000</td>\n",
       "      <td>0003471012</td>\n",
       "      <td>0333</td>\n",
       "    </tr>\n",
       "  </tbody>\n",
       "</table>\n",
       "</div>"
      ],
      "text/plain": [
       "   index                                      encounter_key procedure  \\\n",
       "0      0  60753fb8981fded7463adac015061ad8ea873f9dbb1243...      None   \n",
       "1      1  0ebaa8eb56d7875466394cea1b9e6089545c40be46cadf...      None   \n",
       "2      2  ca2ce480be85638fe393904208902e6461b758923d67ee...      None   \n",
       "3      3  39b8c3c6c585a6d174439b0b04893f30b85f6355da0b4b...      None   \n",
       "4      4  b90660df8c48aa4024149dc32e19beda1937daf6ec5192...      None   \n",
       "\n",
       "  modifier1 modifier2     units line_charge revenue_code  \n",
       "0      None      None  00000000  0000049553         0922  \n",
       "1      None      None  00000014  0005880000         0164  \n",
       "2      None      None      None        None         None  \n",
       "3      None      None      None        None         None  \n",
       "4      None      None  00000000  0003471012         0333  "
      ]
     },
     "execution_count": 5,
     "metadata": {},
     "output_type": "execute_result"
    }
   ],
   "source": [
    "procedures.head()"
   ]
  },
  {
   "cell_type": "code",
   "execution_count": 6,
   "id": "4e6d3f08",
   "metadata": {},
   "outputs": [],
   "source": [
    "import wrangler as w\n",
    "denominator_encounter_keys = w.find_data(appointments, denominator_codes_diag)+\\\n",
    "                             w.find_data(procedures, denominator_codes_CPT)+\\\n",
    "                             w.find_data(appointments, denominator_codes_PCS)\n",
    "exclude_encounter_keys = w.find_data(appointments, exclude_codes_diag)+\\\n",
    "                         w.find_data(procedures, exclude_codes_CPT)+\\\n",
    "                         w.find_data(appointments, exclude_codes_PCS)\n",
    "denominator_encounter_keys=list(set(denominator_encounter_keys)-set(exclude_encounter_keys))"
   ]
  },
  {
   "cell_type": "code",
   "execution_count": 7,
   "id": "33b6a92f",
   "metadata": {},
   "outputs": [
    {
     "data": {
      "text/html": [
       "<div>\n",
       "<style scoped>\n",
       "    .dataframe tbody tr th:only-of-type {\n",
       "        vertical-align: middle;\n",
       "    }\n",
       "\n",
       "    .dataframe tbody tr th {\n",
       "        vertical-align: top;\n",
       "    }\n",
       "\n",
       "    .dataframe thead th {\n",
       "        text-align: right;\n",
       "    }\n",
       "</style>\n",
       "<table border=\"1\" class=\"dataframe\">\n",
       "  <thead>\n",
       "    <tr style=\"text-align: right;\">\n",
       "      <th></th>\n",
       "      <th>index</th>\n",
       "      <th>encounter_key</th>\n",
       "      <th>claim_type_code</th>\n",
       "      <th>icd_type</th>\n",
       "      <th>discharge_status_code</th>\n",
       "      <th>admit_type_code</th>\n",
       "      <th>DA</th>\n",
       "      <th>D1</th>\n",
       "      <th>D2</th>\n",
       "      <th>D3</th>\n",
       "      <th>...</th>\n",
       "      <th>P11</th>\n",
       "      <th>P12</th>\n",
       "      <th>P13</th>\n",
       "      <th>P14</th>\n",
       "      <th>P15</th>\n",
       "      <th>patient_id</th>\n",
       "      <th>total_claim_charge_amount</th>\n",
       "      <th>bill_type_code</th>\n",
       "      <th>doctor_id</th>\n",
       "      <th>hospital_id</th>\n",
       "    </tr>\n",
       "  </thead>\n",
       "  <tbody>\n",
       "    <tr>\n",
       "      <th>125</th>\n",
       "      <td>125</td>\n",
       "      <td>b2ff5e25ef396d1b37da4bd7f7bc4ed7bf63242f6807de...</td>\n",
       "      <td>I</td>\n",
       "      <td>9</td>\n",
       "      <td></td>\n",
       "      <td></td>\n",
       "      <td>562.1</td>\n",
       "      <td>562.1</td>\n",
       "      <td>211.3</td>\n",
       "      <td></td>\n",
       "      <td>...</td>\n",
       "      <td></td>\n",
       "      <td></td>\n",
       "      <td></td>\n",
       "      <td></td>\n",
       "      <td></td>\n",
       "      <td>dce553a9508c25e439171274397adf3be0c31182c5d4bf...</td>\n",
       "      <td>000000740000</td>\n",
       "      <td>831</td>\n",
       "      <td>924f908412a2243aefaaf1a1abbe0651e668e6340c3993...</td>\n",
       "      <td>be265ef876f368e9285623d4202c2db129aaf401c5449f...</td>\n",
       "    </tr>\n",
       "    <tr>\n",
       "      <th>435</th>\n",
       "      <td>435</td>\n",
       "      <td>ecff758b15a1a6e93c09f6d3adc7033b27ba48f824d045...</td>\n",
       "      <td>I</td>\n",
       "      <td>9</td>\n",
       "      <td>01</td>\n",
       "      <td>3</td>\n",
       "      <td>54.39</td>\n",
       "      <td>54.39</td>\n",
       "      <td>211.3</td>\n",
       "      <td></td>\n",
       "      <td>...</td>\n",
       "      <td></td>\n",
       "      <td></td>\n",
       "      <td></td>\n",
       "      <td></td>\n",
       "      <td></td>\n",
       "      <td>f157360c6b7894973d598204e725a5887b27b0072f2d13...</td>\n",
       "      <td>000001844476</td>\n",
       "      <td>111</td>\n",
       "      <td>880251f5ae409dc658535736b41eadc8456f569f7f9828...</td>\n",
       "      <td>09b2a1add271711f7cda18eedb9a9a6315f4a103e605cf...</td>\n",
       "    </tr>\n",
       "    <tr>\n",
       "      <th>564</th>\n",
       "      <td>564</td>\n",
       "      <td>19b516dd184c38e369d34fc774286bcc702b16759753f3...</td>\n",
       "      <td>I</td>\n",
       "      <td>9</td>\n",
       "      <td></td>\n",
       "      <td></td>\n",
       "      <td>57.81</td>\n",
       "      <td>57.81</td>\n",
       "      <td>211.3</td>\n",
       "      <td>45.5</td>\n",
       "      <td>...</td>\n",
       "      <td></td>\n",
       "      <td></td>\n",
       "      <td></td>\n",
       "      <td></td>\n",
       "      <td></td>\n",
       "      <td>4544ac27e14e02f16689c6ae2dab0a004b1610617e4b11...</td>\n",
       "      <td>000000236033</td>\n",
       "      <td>131</td>\n",
       "      <td>95558115a97a04dea62cc868bc5a4f7868c59771eb8376...</td>\n",
       "      <td>1c0a6598efb9ee9c9e2a875b5a8d327f161b6df34c20b9...</td>\n",
       "    </tr>\n",
       "    <tr>\n",
       "      <th>618</th>\n",
       "      <td>618</td>\n",
       "      <td>4c231bb6dc7e12b6b54af0ca6d421b3203d2cf4f61f923...</td>\n",
       "      <td>I</td>\n",
       "      <td>9</td>\n",
       "      <td>01</td>\n",
       "      <td>1</td>\n",
       "      <td>56.93</td>\n",
       "      <td>532.4</td>\n",
       "      <td>28.51</td>\n",
       "      <td>59.9</td>\n",
       "      <td>...</td>\n",
       "      <td></td>\n",
       "      <td></td>\n",
       "      <td></td>\n",
       "      <td></td>\n",
       "      <td></td>\n",
       "      <td>f9f5840f724cd2b0007f49b5d8a10eec5b25da82f5d605...</td>\n",
       "      <td>000003316075</td>\n",
       "      <td>117</td>\n",
       "      <td>9de9d46a7b57ce0ad6c4d6e26780c8b4a49252c0957409...</td>\n",
       "      <td>9d15ec3cbf06399569956ed421d80c58086363cb464427...</td>\n",
       "    </tr>\n",
       "    <tr>\n",
       "      <th>636</th>\n",
       "      <td>636</td>\n",
       "      <td>3fb27b882f9ba1da80b2b8fe68c436ceb572c5d69abc5e...</td>\n",
       "      <td>I</td>\n",
       "      <td>9</td>\n",
       "      <td></td>\n",
       "      <td></td>\n",
       "      <td>562.1</td>\n",
       "      <td>562.1</td>\n",
       "      <td>79.34</td>\n",
       "      <td>211.3</td>\n",
       "      <td>...</td>\n",
       "      <td></td>\n",
       "      <td></td>\n",
       "      <td></td>\n",
       "      <td></td>\n",
       "      <td></td>\n",
       "      <td>09ba0c67ea0d3e24fc368cf371f022c2cb18f2a3caa48b...</td>\n",
       "      <td>000000432100</td>\n",
       "      <td>131</td>\n",
       "      <td>f4fe9d68e9a06488e63ab414c44bbb6f7c37ecb6a3320c...</td>\n",
       "      <td>b4730e5b559347e2db23c0086492d99dc1cef0d0b16120...</td>\n",
       "    </tr>\n",
       "    <tr>\n",
       "      <th>...</th>\n",
       "      <td>...</td>\n",
       "      <td>...</td>\n",
       "      <td>...</td>\n",
       "      <td>...</td>\n",
       "      <td>...</td>\n",
       "      <td>...</td>\n",
       "      <td>...</td>\n",
       "      <td>...</td>\n",
       "      <td>...</td>\n",
       "      <td>...</td>\n",
       "      <td>...</td>\n",
       "      <td>...</td>\n",
       "      <td>...</td>\n",
       "      <td>...</td>\n",
       "      <td>...</td>\n",
       "      <td>...</td>\n",
       "      <td>...</td>\n",
       "      <td>...</td>\n",
       "      <td>...</td>\n",
       "      <td>...</td>\n",
       "      <td>...</td>\n",
       "    </tr>\n",
       "    <tr>\n",
       "      <th>1118263</th>\n",
       "      <td>1118263</td>\n",
       "      <td>de39034d7a17235de542ab549b5f1aa2b3db0505ed1f92...</td>\n",
       "      <td>I</td>\n",
       "      <td>9</td>\n",
       "      <td></td>\n",
       "      <td></td>\n",
       "      <td></td>\n",
       "      <td></td>\n",
       "      <td>211.3</td>\n",
       "      <td></td>\n",
       "      <td>...</td>\n",
       "      <td></td>\n",
       "      <td></td>\n",
       "      <td></td>\n",
       "      <td></td>\n",
       "      <td></td>\n",
       "      <td>8939cea0353423f3944fcdc7965edc21d375121d0203d1...</td>\n",
       "      <td>000000283473</td>\n",
       "      <td>131</td>\n",
       "      <td>be8d2e2ae39bba6bcec948c54d9383cd9a3039240937cd...</td>\n",
       "      <td>7a3bc2608928271a8da6a13a71a4795ad82d6beb6d8a88...</td>\n",
       "    </tr>\n",
       "    <tr>\n",
       "      <th>1118269</th>\n",
       "      <td>1118269</td>\n",
       "      <td>665aa9a9d4be01f9dc6c57ee9cc0e5f6bc9eb401a56028...</td>\n",
       "      <td>I</td>\n",
       "      <td>9</td>\n",
       "      <td></td>\n",
       "      <td></td>\n",
       "      <td></td>\n",
       "      <td></td>\n",
       "      <td>211.3</td>\n",
       "      <td>562.1</td>\n",
       "      <td>...</td>\n",
       "      <td></td>\n",
       "      <td></td>\n",
       "      <td></td>\n",
       "      <td></td>\n",
       "      <td></td>\n",
       "      <td>324e5d34f30838e80b7b5228407c0df0ed0eefcc59c047...</td>\n",
       "      <td>000000160400</td>\n",
       "      <td>131</td>\n",
       "      <td>24739e2a4fc43001a4c76135d355bd19c5376e5fe4b85f...</td>\n",
       "      <td>8eab8689e47aa829b7997ceb5cda1706c5e87ca839f0be...</td>\n",
       "    </tr>\n",
       "    <tr>\n",
       "      <th>1118270</th>\n",
       "      <td>1118270</td>\n",
       "      <td>16ef4aa1d8977210d796016a884140123d3d99cdaeb774...</td>\n",
       "      <td>I</td>\n",
       "      <td>9</td>\n",
       "      <td></td>\n",
       "      <td></td>\n",
       "      <td>57.7</td>\n",
       "      <td></td>\n",
       "      <td>211.3</td>\n",
       "      <td>79.34</td>\n",
       "      <td>...</td>\n",
       "      <td></td>\n",
       "      <td></td>\n",
       "      <td></td>\n",
       "      <td></td>\n",
       "      <td></td>\n",
       "      <td>f3144d967da5fa01361c980be569883c64eced651f5ca5...</td>\n",
       "      <td>000001248407</td>\n",
       "      <td>131</td>\n",
       "      <td>d496e9fa876ee8bd7a9643076b22b538291501d8d20797...</td>\n",
       "      <td>e77d8913236ab3af0130c354f083a3cc5770b0d74c807e...</td>\n",
       "    </tr>\n",
       "    <tr>\n",
       "      <th>1118275</th>\n",
       "      <td>1118275</td>\n",
       "      <td>2fd4d00fb05302011b41c806ab8275cef5d98af94fcbb3...</td>\n",
       "      <td>I</td>\n",
       "      <td>9</td>\n",
       "      <td></td>\n",
       "      <td></td>\n",
       "      <td></td>\n",
       "      <td></td>\n",
       "      <td>211.3</td>\n",
       "      <td></td>\n",
       "      <td>...</td>\n",
       "      <td></td>\n",
       "      <td></td>\n",
       "      <td></td>\n",
       "      <td></td>\n",
       "      <td></td>\n",
       "      <td>a28a44bed4cfb599e8a5368f1d28fe3f1d686b156d62cb...</td>\n",
       "      <td>000000199500</td>\n",
       "      <td>831</td>\n",
       "      <td>e3b0c44298fc1c149afbf4c8996fb92427ae41e4649b93...</td>\n",
       "      <td>2de62dc2b8dfae006f9d85380d2308c02bdb1c01a6ba4e...</td>\n",
       "    </tr>\n",
       "    <tr>\n",
       "      <th>1118543</th>\n",
       "      <td>1118543</td>\n",
       "      <td>a5e8d6d3d28a8f3628b61f0401eae0f8ba928e5e408d1f...</td>\n",
       "      <td>I</td>\n",
       "      <td>9</td>\n",
       "      <td></td>\n",
       "      <td></td>\n",
       "      <td></td>\n",
       "      <td></td>\n",
       "      <td>211.3</td>\n",
       "      <td></td>\n",
       "      <td>...</td>\n",
       "      <td></td>\n",
       "      <td></td>\n",
       "      <td></td>\n",
       "      <td></td>\n",
       "      <td></td>\n",
       "      <td>e597a21c8f72dc46b8c45c5e36d79f18e8bbd0be8460b2...</td>\n",
       "      <td>000001200000</td>\n",
       "      <td>831</td>\n",
       "      <td>e3b0c44298fc1c149afbf4c8996fb92427ae41e4649b93...</td>\n",
       "      <td>ad898f1cae29e9f2f9ae5aadcd266714661c0aea9bc89c...</td>\n",
       "    </tr>\n",
       "  </tbody>\n",
       "</table>\n",
       "<p>8854 rows × 53 columns</p>\n",
       "</div>"
      ],
      "text/plain": [
       "           index                                      encounter_key  \\\n",
       "125          125  b2ff5e25ef396d1b37da4bd7f7bc4ed7bf63242f6807de...   \n",
       "435          435  ecff758b15a1a6e93c09f6d3adc7033b27ba48f824d045...   \n",
       "564          564  19b516dd184c38e369d34fc774286bcc702b16759753f3...   \n",
       "618          618  4c231bb6dc7e12b6b54af0ca6d421b3203d2cf4f61f923...   \n",
       "636          636  3fb27b882f9ba1da80b2b8fe68c436ceb572c5d69abc5e...   \n",
       "...          ...                                                ...   \n",
       "1118263  1118263  de39034d7a17235de542ab549b5f1aa2b3db0505ed1f92...   \n",
       "1118269  1118269  665aa9a9d4be01f9dc6c57ee9cc0e5f6bc9eb401a56028...   \n",
       "1118270  1118270  16ef4aa1d8977210d796016a884140123d3d99cdaeb774...   \n",
       "1118275  1118275  2fd4d00fb05302011b41c806ab8275cef5d98af94fcbb3...   \n",
       "1118543  1118543  a5e8d6d3d28a8f3628b61f0401eae0f8ba928e5e408d1f...   \n",
       "\n",
       "        claim_type_code icd_type discharge_status_code admit_type_code     DA  \\\n",
       "125                   I        9                                        562.1   \n",
       "435                   I        9                    01               3  54.39   \n",
       "564                   I        9                                        57.81   \n",
       "618                   I        9                    01               1  56.93   \n",
       "636                   I        9                                        562.1   \n",
       "...                 ...      ...                   ...             ...    ...   \n",
       "1118263               I        9                                                \n",
       "1118269               I        9                                                \n",
       "1118270               I        9                                         57.7   \n",
       "1118275               I        9                                                \n",
       "1118543               I        9                                                \n",
       "\n",
       "            D1     D2     D3  ... P11 P12 P13 P14 P15  \\\n",
       "125      562.1  211.3         ...                       \n",
       "435      54.39  211.3         ...                       \n",
       "564      57.81  211.3   45.5  ...                       \n",
       "618      532.4  28.51   59.9  ...                       \n",
       "636      562.1  79.34  211.3  ...                       \n",
       "...        ...    ...    ...  ...  ..  ..  ..  ..  ..   \n",
       "1118263         211.3         ...                       \n",
       "1118269         211.3  562.1  ...                       \n",
       "1118270         211.3  79.34  ...                       \n",
       "1118275         211.3         ...                       \n",
       "1118543         211.3         ...                       \n",
       "\n",
       "                                                patient_id  \\\n",
       "125      dce553a9508c25e439171274397adf3be0c31182c5d4bf...   \n",
       "435      f157360c6b7894973d598204e725a5887b27b0072f2d13...   \n",
       "564      4544ac27e14e02f16689c6ae2dab0a004b1610617e4b11...   \n",
       "618      f9f5840f724cd2b0007f49b5d8a10eec5b25da82f5d605...   \n",
       "636      09ba0c67ea0d3e24fc368cf371f022c2cb18f2a3caa48b...   \n",
       "...                                                    ...   \n",
       "1118263  8939cea0353423f3944fcdc7965edc21d375121d0203d1...   \n",
       "1118269  324e5d34f30838e80b7b5228407c0df0ed0eefcc59c047...   \n",
       "1118270  f3144d967da5fa01361c980be569883c64eced651f5ca5...   \n",
       "1118275  a28a44bed4cfb599e8a5368f1d28fe3f1d686b156d62cb...   \n",
       "1118543  e597a21c8f72dc46b8c45c5e36d79f18e8bbd0be8460b2...   \n",
       "\n",
       "        total_claim_charge_amount bill_type_code  \\\n",
       "125                  000000740000            831   \n",
       "435                  000001844476            111   \n",
       "564                  000000236033            131   \n",
       "618                  000003316075            117   \n",
       "636                  000000432100            131   \n",
       "...                           ...            ...   \n",
       "1118263              000000283473            131   \n",
       "1118269              000000160400            131   \n",
       "1118270              000001248407            131   \n",
       "1118275              000000199500            831   \n",
       "1118543              000001200000            831   \n",
       "\n",
       "                                                 doctor_id  \\\n",
       "125      924f908412a2243aefaaf1a1abbe0651e668e6340c3993...   \n",
       "435      880251f5ae409dc658535736b41eadc8456f569f7f9828...   \n",
       "564      95558115a97a04dea62cc868bc5a4f7868c59771eb8376...   \n",
       "618      9de9d46a7b57ce0ad6c4d6e26780c8b4a49252c0957409...   \n",
       "636      f4fe9d68e9a06488e63ab414c44bbb6f7c37ecb6a3320c...   \n",
       "...                                                    ...   \n",
       "1118263  be8d2e2ae39bba6bcec948c54d9383cd9a3039240937cd...   \n",
       "1118269  24739e2a4fc43001a4c76135d355bd19c5376e5fe4b85f...   \n",
       "1118270  d496e9fa876ee8bd7a9643076b22b538291501d8d20797...   \n",
       "1118275  e3b0c44298fc1c149afbf4c8996fb92427ae41e4649b93...   \n",
       "1118543  e3b0c44298fc1c149afbf4c8996fb92427ae41e4649b93...   \n",
       "\n",
       "                                               hospital_id  \n",
       "125      be265ef876f368e9285623d4202c2db129aaf401c5449f...  \n",
       "435      09b2a1add271711f7cda18eedb9a9a6315f4a103e605cf...  \n",
       "564      1c0a6598efb9ee9c9e2a875b5a8d327f161b6df34c20b9...  \n",
       "618      9d15ec3cbf06399569956ed421d80c58086363cb464427...  \n",
       "636      b4730e5b559347e2db23c0086492d99dc1cef0d0b16120...  \n",
       "...                                                    ...  \n",
       "1118263  7a3bc2608928271a8da6a13a71a4795ad82d6beb6d8a88...  \n",
       "1118269  8eab8689e47aa829b7997ceb5cda1706c5e87ca839f0be...  \n",
       "1118270  e77d8913236ab3af0130c354f083a3cc5770b0d74c807e...  \n",
       "1118275  2de62dc2b8dfae006f9d85380d2308c02bdb1c01a6ba4e...  \n",
       "1118543  ad898f1cae29e9f2f9ae5aadcd266714661c0aea9bc89c...  \n",
       "\n",
       "[8854 rows x 53 columns]"
      ]
     },
     "execution_count": 7,
     "metadata": {},
     "output_type": "execute_result"
    }
   ],
   "source": [
    "denominator=appointments[appointments['encounter_key'].isin(denominator_encounter_keys)]\n",
    "denominator"
   ]
  },
  {
   "cell_type": "code",
   "execution_count": 8,
   "id": "745f6308",
   "metadata": {},
   "outputs": [],
   "source": [
    "numerator_encounter_keys= w.find_data(denominator, numerator_codes_diag)+\\\n",
    "                          w.find_data(procedures[procedures['encounter_key'].isin(denominator_encounter_keys)], numerator_codes_CPT)+\\\n",
    "                          w.find_data(denominator, numerator_codes_PCS)\n",
    "numerator_encounter_keys=list(set(numerator_encounter_keys)-set(exclude_encounter_keys))"
   ]
  },
  {
   "cell_type": "code",
   "execution_count": 9,
   "id": "1ddfcfcf",
   "metadata": {},
   "outputs": [
    {
     "data": {
      "text/html": [
       "<div>\n",
       "<style scoped>\n",
       "    .dataframe tbody tr th:only-of-type {\n",
       "        vertical-align: middle;\n",
       "    }\n",
       "\n",
       "    .dataframe tbody tr th {\n",
       "        vertical-align: top;\n",
       "    }\n",
       "\n",
       "    .dataframe thead th {\n",
       "        text-align: right;\n",
       "    }\n",
       "</style>\n",
       "<table border=\"1\" class=\"dataframe\">\n",
       "  <thead>\n",
       "    <tr style=\"text-align: right;\">\n",
       "      <th></th>\n",
       "      <th>index</th>\n",
       "      <th>encounter_key</th>\n",
       "      <th>claim_type_code</th>\n",
       "      <th>icd_type</th>\n",
       "      <th>discharge_status_code</th>\n",
       "      <th>admit_type_code</th>\n",
       "      <th>DA</th>\n",
       "      <th>D1</th>\n",
       "      <th>D2</th>\n",
       "      <th>D3</th>\n",
       "      <th>...</th>\n",
       "      <th>P11</th>\n",
       "      <th>P12</th>\n",
       "      <th>P13</th>\n",
       "      <th>P14</th>\n",
       "      <th>P15</th>\n",
       "      <th>patient_id</th>\n",
       "      <th>total_claim_charge_amount</th>\n",
       "      <th>bill_type_code</th>\n",
       "      <th>doctor_id</th>\n",
       "      <th>hospital_id</th>\n",
       "    </tr>\n",
       "  </thead>\n",
       "  <tbody>\n",
       "    <tr>\n",
       "      <th>1349</th>\n",
       "      <td>1349</td>\n",
       "      <td>c1f7f8643a656b095f05e58e2f1b84f18dfe9c85814c85...</td>\n",
       "      <td>I</td>\n",
       "      <td>9</td>\n",
       "      <td>01</td>\n",
       "      <td>1</td>\n",
       "      <td>55.89</td>\n",
       "      <td>56.09</td>\n",
       "      <td>211.3</td>\n",
       "      <td>530.19</td>\n",
       "      <td>...</td>\n",
       "      <td></td>\n",
       "      <td></td>\n",
       "      <td></td>\n",
       "      <td></td>\n",
       "      <td></td>\n",
       "      <td>6049f1f9786d6568eaa9306b4e87c6bae7e1ebc55f69d9...</td>\n",
       "      <td>000003202993</td>\n",
       "      <td>111</td>\n",
       "      <td>9a96f55a48834babe711879d83f19da8f33a52feab1d17...</td>\n",
       "      <td>b8291a0d34baf7c9b19fa1a2de1253767917cf5062acb8...</td>\n",
       "    </tr>\n",
       "    <tr>\n",
       "      <th>1564</th>\n",
       "      <td>1564</td>\n",
       "      <td>ff76a6e996efddf9329c2ddbbecfaf1daafe1a2d15f47c...</td>\n",
       "      <td>I</td>\n",
       "      <td>9</td>\n",
       "      <td>06</td>\n",
       "      <td>1</td>\n",
       "      <td>62.38</td>\n",
       "      <td>18.2</td>\n",
       "      <td>567.89</td>\n",
       "      <td>428.23</td>\n",
       "      <td>...</td>\n",
       "      <td>54.91</td>\n",
       "      <td>54.91</td>\n",
       "      <td>99.21</td>\n",
       "      <td></td>\n",
       "      <td></td>\n",
       "      <td>b8364f1db9b6284a334230e173f341846bbaeab82a597f...</td>\n",
       "      <td>000024872940</td>\n",
       "      <td>111</td>\n",
       "      <td>52fb389c54450bdde7f98a4f2fc18eba091b4239b8298a...</td>\n",
       "      <td>de20e4849f01090deddd429c3421746044f216ddebacca...</td>\n",
       "    </tr>\n",
       "    <tr>\n",
       "      <th>2261</th>\n",
       "      <td>2261</td>\n",
       "      <td>daa393a4c2371d387935b21cde7f35bc6d439244383ce3...</td>\n",
       "      <td>I</td>\n",
       "      <td>9</td>\n",
       "      <td>01</td>\n",
       "      <td>1</td>\n",
       "      <td>56.09</td>\n",
       "      <td>560.81</td>\n",
       "      <td>211.4</td>\n",
       "      <td>23.81</td>\n",
       "      <td>...</td>\n",
       "      <td></td>\n",
       "      <td></td>\n",
       "      <td></td>\n",
       "      <td></td>\n",
       "      <td></td>\n",
       "      <td>5ecd2590b6bd32daaa10848b61508f110e40b2bcb75a15...</td>\n",
       "      <td>000001070622</td>\n",
       "      <td>111</td>\n",
       "      <td>0eae61729f50bba978c8baa40525e934c969cdb282d486...</td>\n",
       "      <td>04a7c88c47085c82c4bcd73468fef0ef8debcb9a570826...</td>\n",
       "    </tr>\n",
       "    <tr>\n",
       "      <th>2489</th>\n",
       "      <td>2489</td>\n",
       "      <td>7e3f5bad5122ee2fdfe87c83a02212dce2c20ed680d455...</td>\n",
       "      <td>I</td>\n",
       "      <td>9</td>\n",
       "      <td>01</td>\n",
       "      <td>1</td>\n",
       "      <td>57.89</td>\n",
       "      <td>57.89</td>\n",
       "      <td>304</td>\n",
       "      <td>535.5</td>\n",
       "      <td>...</td>\n",
       "      <td></td>\n",
       "      <td></td>\n",
       "      <td></td>\n",
       "      <td></td>\n",
       "      <td></td>\n",
       "      <td>02eeaa00ab562d420603b24cc853efe054af4a11f92137...</td>\n",
       "      <td>000001597700</td>\n",
       "      <td>111</td>\n",
       "      <td>0ebe57b8eef724cd312ed986dbc3b97e92cbf7ec19d168...</td>\n",
       "      <td>9aa1a6d10e740d702be48b6f422a95d134183301895599...</td>\n",
       "    </tr>\n",
       "    <tr>\n",
       "      <th>2629</th>\n",
       "      <td>2629</td>\n",
       "      <td>07a911c2d2458b3348a4c3c9067623ffda6e2e5f8c9964...</td>\n",
       "      <td>I</td>\n",
       "      <td>9</td>\n",
       "      <td>01</td>\n",
       "      <td>1</td>\n",
       "      <td>57.89</td>\n",
       "      <td>57.89</td>\n",
       "      <td>28.51</td>\n",
       "      <td>211.3</td>\n",
       "      <td>...</td>\n",
       "      <td></td>\n",
       "      <td></td>\n",
       "      <td></td>\n",
       "      <td></td>\n",
       "      <td></td>\n",
       "      <td>82f16eeed359373a616f78d171dd09f199dee00f0a902f...</td>\n",
       "      <td>000003642625</td>\n",
       "      <td>111</td>\n",
       "      <td>684957743cfd65fcf1866b8995064acad1eefe204b0ab9...</td>\n",
       "      <td>faa6e34b8db4efa7123acb87f028cd562787a2fd818ea5...</td>\n",
       "    </tr>\n",
       "    <tr>\n",
       "      <th>...</th>\n",
       "      <td>...</td>\n",
       "      <td>...</td>\n",
       "      <td>...</td>\n",
       "      <td>...</td>\n",
       "      <td>...</td>\n",
       "      <td>...</td>\n",
       "      <td>...</td>\n",
       "      <td>...</td>\n",
       "      <td>...</td>\n",
       "      <td>...</td>\n",
       "      <td>...</td>\n",
       "      <td>...</td>\n",
       "      <td>...</td>\n",
       "      <td>...</td>\n",
       "      <td>...</td>\n",
       "      <td>...</td>\n",
       "      <td>...</td>\n",
       "      <td>...</td>\n",
       "      <td>...</td>\n",
       "      <td>...</td>\n",
       "      <td>...</td>\n",
       "    </tr>\n",
       "    <tr>\n",
       "      <th>1118004</th>\n",
       "      <td>1118004</td>\n",
       "      <td>59f505b03002d461c1de1de018c604d1332dd7ef714ee2...</td>\n",
       "      <td>I</td>\n",
       "      <td>9</td>\n",
       "      <td></td>\n",
       "      <td></td>\n",
       "      <td></td>\n",
       "      <td></td>\n",
       "      <td>211.3</td>\n",
       "      <td>569.49</td>\n",
       "      <td>...</td>\n",
       "      <td></td>\n",
       "      <td></td>\n",
       "      <td></td>\n",
       "      <td></td>\n",
       "      <td></td>\n",
       "      <td>319fa68ea7f98133e917bda429511c9e2c3cb37feec821...</td>\n",
       "      <td>000000133169</td>\n",
       "      <td>131</td>\n",
       "      <td>3bc78a165fdaab565cdfa2d1f8b9d9e1815e56c83f65f2...</td>\n",
       "      <td>8b9886192b044f29c176299022a05125e017f9b2fe72c3...</td>\n",
       "    </tr>\n",
       "    <tr>\n",
       "      <th>1118037</th>\n",
       "      <td>1118037</td>\n",
       "      <td>a5320a8ac3e27b65f8f40e0333e57de20ee09a16b4c613...</td>\n",
       "      <td>I</td>\n",
       "      <td>9</td>\n",
       "      <td></td>\n",
       "      <td></td>\n",
       "      <td></td>\n",
       "      <td></td>\n",
       "      <td>211.3</td>\n",
       "      <td>530.81</td>\n",
       "      <td>...</td>\n",
       "      <td></td>\n",
       "      <td></td>\n",
       "      <td></td>\n",
       "      <td></td>\n",
       "      <td></td>\n",
       "      <td>b07aa509bbf0c8620bc23da673d48426b010cbc0ba05b0...</td>\n",
       "      <td>000000387884</td>\n",
       "      <td>131</td>\n",
       "      <td>8ff5139b54acf56c7ce19649a81967ddb535b30bfb2a6d...</td>\n",
       "      <td>863b3d51461e5485e4dca67e2fdb35d3ef68347a34212c...</td>\n",
       "    </tr>\n",
       "    <tr>\n",
       "      <th>1118178</th>\n",
       "      <td>1118178</td>\n",
       "      <td>37e518e8c0c7f668731b893a1ae13c781dd8f63323a989...</td>\n",
       "      <td>I</td>\n",
       "      <td>9</td>\n",
       "      <td></td>\n",
       "      <td></td>\n",
       "      <td></td>\n",
       "      <td></td>\n",
       "      <td>211.3</td>\n",
       "      <td>250</td>\n",
       "      <td>...</td>\n",
       "      <td></td>\n",
       "      <td></td>\n",
       "      <td></td>\n",
       "      <td></td>\n",
       "      <td></td>\n",
       "      <td>48025140b75b427c94012302948844a22c05df270f50de...</td>\n",
       "      <td>000000143168</td>\n",
       "      <td>131</td>\n",
       "      <td>3ce76281ceb8ecd53df51be731283a502edc2f866972f8...</td>\n",
       "      <td>02f3017f445fe62b934438080c6a51393263ec7a091701...</td>\n",
       "    </tr>\n",
       "    <tr>\n",
       "      <th>1118263</th>\n",
       "      <td>1118263</td>\n",
       "      <td>de39034d7a17235de542ab549b5f1aa2b3db0505ed1f92...</td>\n",
       "      <td>I</td>\n",
       "      <td>9</td>\n",
       "      <td></td>\n",
       "      <td></td>\n",
       "      <td></td>\n",
       "      <td></td>\n",
       "      <td>211.3</td>\n",
       "      <td></td>\n",
       "      <td>...</td>\n",
       "      <td></td>\n",
       "      <td></td>\n",
       "      <td></td>\n",
       "      <td></td>\n",
       "      <td></td>\n",
       "      <td>8939cea0353423f3944fcdc7965edc21d375121d0203d1...</td>\n",
       "      <td>000000283473</td>\n",
       "      <td>131</td>\n",
       "      <td>be8d2e2ae39bba6bcec948c54d9383cd9a3039240937cd...</td>\n",
       "      <td>7a3bc2608928271a8da6a13a71a4795ad82d6beb6d8a88...</td>\n",
       "    </tr>\n",
       "    <tr>\n",
       "      <th>1118270</th>\n",
       "      <td>1118270</td>\n",
       "      <td>16ef4aa1d8977210d796016a884140123d3d99cdaeb774...</td>\n",
       "      <td>I</td>\n",
       "      <td>9</td>\n",
       "      <td></td>\n",
       "      <td></td>\n",
       "      <td>57.7</td>\n",
       "      <td></td>\n",
       "      <td>211.3</td>\n",
       "      <td>79.34</td>\n",
       "      <td>...</td>\n",
       "      <td></td>\n",
       "      <td></td>\n",
       "      <td></td>\n",
       "      <td></td>\n",
       "      <td></td>\n",
       "      <td>f3144d967da5fa01361c980be569883c64eced651f5ca5...</td>\n",
       "      <td>000001248407</td>\n",
       "      <td>131</td>\n",
       "      <td>d496e9fa876ee8bd7a9643076b22b538291501d8d20797...</td>\n",
       "      <td>e77d8913236ab3af0130c354f083a3cc5770b0d74c807e...</td>\n",
       "    </tr>\n",
       "  </tbody>\n",
       "</table>\n",
       "<p>1576 rows × 53 columns</p>\n",
       "</div>"
      ],
      "text/plain": [
       "           index                                      encounter_key  \\\n",
       "1349        1349  c1f7f8643a656b095f05e58e2f1b84f18dfe9c85814c85...   \n",
       "1564        1564  ff76a6e996efddf9329c2ddbbecfaf1daafe1a2d15f47c...   \n",
       "2261        2261  daa393a4c2371d387935b21cde7f35bc6d439244383ce3...   \n",
       "2489        2489  7e3f5bad5122ee2fdfe87c83a02212dce2c20ed680d455...   \n",
       "2629        2629  07a911c2d2458b3348a4c3c9067623ffda6e2e5f8c9964...   \n",
       "...          ...                                                ...   \n",
       "1118004  1118004  59f505b03002d461c1de1de018c604d1332dd7ef714ee2...   \n",
       "1118037  1118037  a5320a8ac3e27b65f8f40e0333e57de20ee09a16b4c613...   \n",
       "1118178  1118178  37e518e8c0c7f668731b893a1ae13c781dd8f63323a989...   \n",
       "1118263  1118263  de39034d7a17235de542ab549b5f1aa2b3db0505ed1f92...   \n",
       "1118270  1118270  16ef4aa1d8977210d796016a884140123d3d99cdaeb774...   \n",
       "\n",
       "        claim_type_code icd_type discharge_status_code admit_type_code     DA  \\\n",
       "1349                  I        9                    01               1  55.89   \n",
       "1564                  I        9                    06               1  62.38   \n",
       "2261                  I        9                    01               1  56.09   \n",
       "2489                  I        9                    01               1  57.89   \n",
       "2629                  I        9                    01               1  57.89   \n",
       "...                 ...      ...                   ...             ...    ...   \n",
       "1118004               I        9                                                \n",
       "1118037               I        9                                                \n",
       "1118178               I        9                                                \n",
       "1118263               I        9                                                \n",
       "1118270               I        9                                         57.7   \n",
       "\n",
       "             D1      D2      D3  ...    P11    P12    P13 P14 P15  \\\n",
       "1349      56.09   211.3  530.19  ...                                \n",
       "1564       18.2  567.89  428.23  ...  54.91  54.91  99.21           \n",
       "2261     560.81   211.4   23.81  ...                                \n",
       "2489      57.89     304   535.5  ...                                \n",
       "2629      57.89   28.51   211.3  ...                                \n",
       "...         ...     ...     ...  ...    ...    ...    ...  ..  ..   \n",
       "1118004           211.3  569.49  ...                                \n",
       "1118037           211.3  530.81  ...                                \n",
       "1118178           211.3     250  ...                                \n",
       "1118263           211.3          ...                                \n",
       "1118270           211.3   79.34  ...                                \n",
       "\n",
       "                                                patient_id  \\\n",
       "1349     6049f1f9786d6568eaa9306b4e87c6bae7e1ebc55f69d9...   \n",
       "1564     b8364f1db9b6284a334230e173f341846bbaeab82a597f...   \n",
       "2261     5ecd2590b6bd32daaa10848b61508f110e40b2bcb75a15...   \n",
       "2489     02eeaa00ab562d420603b24cc853efe054af4a11f92137...   \n",
       "2629     82f16eeed359373a616f78d171dd09f199dee00f0a902f...   \n",
       "...                                                    ...   \n",
       "1118004  319fa68ea7f98133e917bda429511c9e2c3cb37feec821...   \n",
       "1118037  b07aa509bbf0c8620bc23da673d48426b010cbc0ba05b0...   \n",
       "1118178  48025140b75b427c94012302948844a22c05df270f50de...   \n",
       "1118263  8939cea0353423f3944fcdc7965edc21d375121d0203d1...   \n",
       "1118270  f3144d967da5fa01361c980be569883c64eced651f5ca5...   \n",
       "\n",
       "        total_claim_charge_amount bill_type_code  \\\n",
       "1349                 000003202993            111   \n",
       "1564                 000024872940            111   \n",
       "2261                 000001070622            111   \n",
       "2489                 000001597700            111   \n",
       "2629                 000003642625            111   \n",
       "...                           ...            ...   \n",
       "1118004              000000133169            131   \n",
       "1118037              000000387884            131   \n",
       "1118178              000000143168            131   \n",
       "1118263              000000283473            131   \n",
       "1118270              000001248407            131   \n",
       "\n",
       "                                                 doctor_id  \\\n",
       "1349     9a96f55a48834babe711879d83f19da8f33a52feab1d17...   \n",
       "1564     52fb389c54450bdde7f98a4f2fc18eba091b4239b8298a...   \n",
       "2261     0eae61729f50bba978c8baa40525e934c969cdb282d486...   \n",
       "2489     0ebe57b8eef724cd312ed986dbc3b97e92cbf7ec19d168...   \n",
       "2629     684957743cfd65fcf1866b8995064acad1eefe204b0ab9...   \n",
       "...                                                    ...   \n",
       "1118004  3bc78a165fdaab565cdfa2d1f8b9d9e1815e56c83f65f2...   \n",
       "1118037  8ff5139b54acf56c7ce19649a81967ddb535b30bfb2a6d...   \n",
       "1118178  3ce76281ceb8ecd53df51be731283a502edc2f866972f8...   \n",
       "1118263  be8d2e2ae39bba6bcec948c54d9383cd9a3039240937cd...   \n",
       "1118270  d496e9fa876ee8bd7a9643076b22b538291501d8d20797...   \n",
       "\n",
       "                                               hospital_id  \n",
       "1349     b8291a0d34baf7c9b19fa1a2de1253767917cf5062acb8...  \n",
       "1564     de20e4849f01090deddd429c3421746044f216ddebacca...  \n",
       "2261     04a7c88c47085c82c4bcd73468fef0ef8debcb9a570826...  \n",
       "2489     9aa1a6d10e740d702be48b6f422a95d134183301895599...  \n",
       "2629     faa6e34b8db4efa7123acb87f028cd562787a2fd818ea5...  \n",
       "...                                                    ...  \n",
       "1118004  8b9886192b044f29c176299022a05125e017f9b2fe72c3...  \n",
       "1118037  863b3d51461e5485e4dca67e2fdb35d3ef68347a34212c...  \n",
       "1118178  02f3017f445fe62b934438080c6a51393263ec7a091701...  \n",
       "1118263  7a3bc2608928271a8da6a13a71a4795ad82d6beb6d8a88...  \n",
       "1118270  e77d8913236ab3af0130c354f083a3cc5770b0d74c807e...  \n",
       "\n",
       "[1576 rows x 53 columns]"
      ]
     },
     "execution_count": 9,
     "metadata": {},
     "output_type": "execute_result"
    }
   ],
   "source": [
    "numerator=appointments[appointments['encounter_key'].isin(numerator_encounter_keys)]\n",
    "numerator"
   ]
  },
  {
   "cell_type": "markdown",
   "id": "19698583",
   "metadata": {},
   "source": [
    "# Results"
   ]
  },
  {
   "cell_type": "code",
   "execution_count": 10,
   "id": "a5f83109",
   "metadata": {},
   "outputs": [
    {
     "data": {
      "text/html": [
       "<div>\n",
       "<style scoped>\n",
       "    .dataframe tbody tr th:only-of-type {\n",
       "        vertical-align: middle;\n",
       "    }\n",
       "\n",
       "    .dataframe tbody tr th {\n",
       "        vertical-align: top;\n",
       "    }\n",
       "\n",
       "    .dataframe thead th {\n",
       "        text-align: right;\n",
       "    }\n",
       "</style>\n",
       "<table border=\"1\" class=\"dataframe\">\n",
       "  <thead>\n",
       "    <tr style=\"text-align: right;\">\n",
       "      <th></th>\n",
       "      <th>Denominator</th>\n",
       "      <th>Numerator</th>\n",
       "      <th>Violation Rate</th>\n",
       "    </tr>\n",
       "    <tr>\n",
       "      <th>doctor_id</th>\n",
       "      <th></th>\n",
       "      <th></th>\n",
       "      <th></th>\n",
       "    </tr>\n",
       "  </thead>\n",
       "  <tbody>\n",
       "    <tr>\n",
       "      <th>00011a3bdb96736407f60e498f001ac8075a4260bd805ca0e9740df52f5d3944</th>\n",
       "      <td>1</td>\n",
       "      <td>0</td>\n",
       "      <td>0.00</td>\n",
       "    </tr>\n",
       "    <tr>\n",
       "      <th>0039d4128cf7ae2e9a637ded9b0f056aecda20105c5b1fa176ac84dc1fdcb5af</th>\n",
       "      <td>1</td>\n",
       "      <td>1</td>\n",
       "      <td>100.00</td>\n",
       "    </tr>\n",
       "    <tr>\n",
       "      <th>0053f157450476af69c501f39e8780d7cea30aafbfb9a2f0e6b2a1ee54e1f0e5</th>\n",
       "      <td>6</td>\n",
       "      <td>1</td>\n",
       "      <td>16.67</td>\n",
       "    </tr>\n",
       "    <tr>\n",
       "      <th>006764cf23e7df5bf91511cf1c2c78903ee7c1683a936d4ba6e080fac7b7d681</th>\n",
       "      <td>1</td>\n",
       "      <td>1</td>\n",
       "      <td>100.00</td>\n",
       "    </tr>\n",
       "    <tr>\n",
       "      <th>0067c410b32482e2e46323b01a592300a87c9ae54b5ab400f0d173b15ab4ec56</th>\n",
       "      <td>1</td>\n",
       "      <td>0</td>\n",
       "      <td>0.00</td>\n",
       "    </tr>\n",
       "    <tr>\n",
       "      <th>...</th>\n",
       "      <td>...</td>\n",
       "      <td>...</td>\n",
       "      <td>...</td>\n",
       "    </tr>\n",
       "    <tr>\n",
       "      <th>fed826b68a18b292061647510e3af421f6363fa9775c0b0fabff49302f9d9e63</th>\n",
       "      <td>4</td>\n",
       "      <td>0</td>\n",
       "      <td>0.00</td>\n",
       "    </tr>\n",
       "    <tr>\n",
       "      <th>ff40d814b56fdfb00155cb8056067d677e321f33910f1eaf1a7f6c0cfb079abe</th>\n",
       "      <td>1</td>\n",
       "      <td>0</td>\n",
       "      <td>0.00</td>\n",
       "    </tr>\n",
       "    <tr>\n",
       "      <th>ff85ef17981328049edd106722c2571400595112b1713561cb41f20b1a7c06a7</th>\n",
       "      <td>1</td>\n",
       "      <td>0</td>\n",
       "      <td>0.00</td>\n",
       "    </tr>\n",
       "    <tr>\n",
       "      <th>ff8ff08c1185ddc015bbf2b9af96f89443680b62053f647cfdad04c0f7c4f090</th>\n",
       "      <td>19</td>\n",
       "      <td>5</td>\n",
       "      <td>26.32</td>\n",
       "    </tr>\n",
       "    <tr>\n",
       "      <th>ffcdd2bd8ca9abb5437e925ce9f266fe3a85be7bc3d2866b078d314b41515cbf</th>\n",
       "      <td>1</td>\n",
       "      <td>1</td>\n",
       "      <td>100.00</td>\n",
       "    </tr>\n",
       "  </tbody>\n",
       "</table>\n",
       "<p>1899 rows × 3 columns</p>\n",
       "</div>"
      ],
      "text/plain": [
       "                                                    Denominator  Numerator  \\\n",
       "doctor_id                                                                    \n",
       "00011a3bdb96736407f60e498f001ac8075a4260bd805ca...            1          0   \n",
       "0039d4128cf7ae2e9a637ded9b0f056aecda20105c5b1fa...            1          1   \n",
       "0053f157450476af69c501f39e8780d7cea30aafbfb9a2f...            6          1   \n",
       "006764cf23e7df5bf91511cf1c2c78903ee7c1683a936d4...            1          1   \n",
       "0067c410b32482e2e46323b01a592300a87c9ae54b5ab40...            1          0   \n",
       "...                                                         ...        ...   \n",
       "fed826b68a18b292061647510e3af421f6363fa9775c0b0...            4          0   \n",
       "ff40d814b56fdfb00155cb8056067d677e321f33910f1ea...            1          0   \n",
       "ff85ef17981328049edd106722c2571400595112b171356...            1          0   \n",
       "ff8ff08c1185ddc015bbf2b9af96f89443680b62053f647...           19          5   \n",
       "ffcdd2bd8ca9abb5437e925ce9f266fe3a85be7bc3d2866...            1          1   \n",
       "\n",
       "                                                    Violation Rate  \n",
       "doctor_id                                                           \n",
       "00011a3bdb96736407f60e498f001ac8075a4260bd805ca...            0.00  \n",
       "0039d4128cf7ae2e9a637ded9b0f056aecda20105c5b1fa...          100.00  \n",
       "0053f157450476af69c501f39e8780d7cea30aafbfb9a2f...           16.67  \n",
       "006764cf23e7df5bf91511cf1c2c78903ee7c1683a936d4...          100.00  \n",
       "0067c410b32482e2e46323b01a592300a87c9ae54b5ab40...            0.00  \n",
       "...                                                            ...  \n",
       "fed826b68a18b292061647510e3af421f6363fa9775c0b0...            0.00  \n",
       "ff40d814b56fdfb00155cb8056067d677e321f33910f1ea...            0.00  \n",
       "ff85ef17981328049edd106722c2571400595112b171356...            0.00  \n",
       "ff8ff08c1185ddc015bbf2b9af96f89443680b62053f647...           26.32  \n",
       "ffcdd2bd8ca9abb5437e925ce9f266fe3a85be7bc3d2866...          100.00  \n",
       "\n",
       "[1899 rows x 3 columns]"
      ]
     },
     "execution_count": 10,
     "metadata": {},
     "output_type": "execute_result"
    }
   ],
   "source": [
    "num=pd.DataFrame(numerator.groupby(by=['doctor_id']).size())\n",
    "den=pd.DataFrame(denominator.groupby(by=['doctor_id']).size())\n",
    "#Both dataframes are grouped by the doctors and amount of patients they had.\n",
    "Violations=den.join(num, lsuffix='Denominator', rsuffix='Numerator')\n",
    "Violations=Violations.rename(columns={'0Denominator':'Denominator','0Numerator':'Numerator'})\n",
    "Violations['Numerator']=Violations['Numerator'].fillna(0)\n",
    "#Doctors with patients with benign polyps but no surgeries will have no violations. \n",
    "#Within the dataframe, this will show up as nan and therefore, the nans have to be filled as a 0.\n",
    "Violations['Numerator']=Violations['Numerator'].astype(int)\n",
    "Violations['Violation Rate']=round(100*(Violations['Numerator']/Violations['Denominator']),2)\n",
    "Violations"
   ]
  },
  {
   "cell_type": "markdown",
   "id": "3f7f6b97",
   "metadata": {},
   "source": [
    "# Analysis"
   ]
  },
  {
   "cell_type": "markdown",
   "id": "78c8500b",
   "metadata": {},
   "source": [
    "According to the resource materials given, the cost of of endoscopic resection is \\\\$5,570 per patient on average while a surgical recision is \\\\$18,717 per patient. This means that the patient/insurer is paying \\\\$13,147 in extra costs for unnecessary procedures. This leads to the question as to how much money in theory has been paid as extra costs and how much money according to the records has been paid out."
   ]
  },
  {
   "cell_type": "code",
   "execution_count": 11,
   "id": "62e87f85",
   "metadata": {},
   "outputs": [
    {
     "data": {
      "text/plain": [
       "'$21145192'"
      ]
     },
     "execution_count": 11,
     "metadata": {},
     "output_type": "execute_result"
    }
   ],
   "source": [
    "Theoretical_costs=13417*len(numerator)\n",
    "'$'+str(Theoretical_costs)"
   ]
  },
  {
   "cell_type": "code",
   "execution_count": 12,
   "id": "b52f58a0",
   "metadata": {},
   "outputs": [
    {
     "data": {
      "text/plain": [
       "'$21658674.95'"
      ]
     },
     "execution_count": 12,
     "metadata": {},
     "output_type": "execute_result"
    }
   ],
   "source": [
    "Cost_records=numerator.total_claim_charge_amount.astype(float)/100\n",
    "'$'+str(round(sum(Cost_records),2))"
   ]
  },
  {
   "cell_type": "markdown",
   "id": "dbf6074f",
   "metadata": {},
   "source": [
    "Given the theoretical amount, the patients from these particular records have paid about \\\\$21 million extra on top of unnecessary expenses. "
   ]
  },
  {
   "cell_type": "markdown",
   "id": "798a904d",
   "metadata": {},
   "source": [
    "What about the distribution of patient costs?"
   ]
  },
  {
   "cell_type": "code",
   "execution_count": 13,
   "id": "f65167d0",
   "metadata": {},
   "outputs": [
    {
     "data": {
      "text/plain": [
       "<AxesSubplot:xlabel='total_claim_charge_amount'>"
      ]
     },
     "execution_count": 13,
     "metadata": {},
     "output_type": "execute_result"
    },
    {
     "data": {
      "image/png": "[encoded data removed]",
      "text/plain": [
       "<Figure size 1080x720 with 1 Axes>"
      ]
     },
     "metadata": {
      "needs_background": "light"
     },
     "output_type": "display_data"
    }
   ],
   "source": [
    "fig=plt.figure(figsize=(15,10))\n",
    "sns.boxplot(x=Cost_records)"
   ]
  },
  {
   "cell_type": "markdown",
   "id": "f00892c2",
   "metadata": {},
   "source": [
    "Nearly all of the records are under \\\\$100K. Most of the records are under \\\\$25K."
   ]
  },
  {
   "cell_type": "code",
   "execution_count": 14,
   "id": "3e42f992",
   "metadata": {},
   "outputs": [
    {
     "data": {
      "text/plain": [
       "0.8578680203045685"
      ]
     },
     "execution_count": 14,
     "metadata": {},
     "output_type": "execute_result"
    }
   ],
   "source": [
    "Cost_records_brackets=[]\n",
    "for i in range(0,len(Cost_records)):\n",
    "    if Cost_records.iloc[i]<1000.00:\n",
    "        Cost_records_brackets.append('<$1000')\n",
    "    if (Cost_records.iloc[i]>1000) & (Cost_records.iloc[i]<2500):\n",
    "        Cost_records_brackets.append('$1000-$2500')\n",
    "    if (Cost_records.iloc[i]>2500) & (Cost_records.iloc[i]<5000):\n",
    "        Cost_records_brackets.append('$2500-$5000')\n",
    "    if (Cost_records.iloc[i]>5000) & (Cost_records.iloc[i]<7500):\n",
    "        Cost_records_brackets.append('$5000-$7500')\n",
    "    if (Cost_records.iloc[i]>7500) & (Cost_records.iloc[i]<10000):\n",
    "        Cost_records_brackets.append('$7500-$10000')\n",
    "    if (Cost_records.iloc[i]>10000) & (Cost_records.iloc[i]<12500):\n",
    "        Cost_records_brackets.append('$10000-$12500')\n",
    "    if (Cost_records.iloc[i]>12500) & (Cost_records.iloc[i]<15000):\n",
    "        Cost_records_brackets.append('$12500-$15000')\n",
    "    if (Cost_records.iloc[i]>15000) & (Cost_records.iloc[i]<17500):\n",
    "        Cost_records_brackets.append('$15000-$17500')\n",
    "    if (Cost_records.iloc[i]>17500) & (Cost_records.iloc[i]<20000):\n",
    "        Cost_records_brackets.append('$17500-$20000')\n",
    "    if (Cost_records.iloc[i]>20000) & (Cost_records.iloc[i]<25000):\n",
    "        Cost_records_brackets.append('$20000-$25000')\n",
    "\n",
    "len(Cost_records_brackets)/len(Cost_records)"
   ]
  },
  {
   "cell_type": "markdown",
   "id": "a153bf90",
   "metadata": {},
   "source": [
    "About 86% of patients have costs that are under $25K. "
   ]
  },
  {
   "cell_type": "code",
   "execution_count": 15,
   "id": "95b4d4da",
   "metadata": {},
   "outputs": [
    {
     "data": {
      "image/png": "[encoded data removed]",
      "text/plain": [
       "<Figure size 1080x720 with 1 Axes>"
      ]
     },
     "metadata": {
      "needs_background": "light"
     },
     "output_type": "display_data"
    }
   ],
   "source": [
    "fig=plt.figure(figsize=(15,10))\n",
    "sns.countplot(x=Cost_records_brackets, order=['<$1000','$1000-$2500','$2500-$5000','$5000-$7500',\\\n",
    "                                              '$7500-$10000','$10000-$12500','$12500-$15000',\\\n",
    "                                              '$15000-$17500','$17500-$20000','$20000-$25000'])\n",
    "plt.show()"
   ]
  },
  {
   "cell_type": "markdown",
   "id": "fbc2cd45",
   "metadata": {},
   "source": [
    "In terms of creating a ranking of doctor based on the violation rate, the fact that there are many doctors with one denominator patient and no violations along with one denominator patient and one violation missrepresent the data if a ordinal ranking was created. Therefore, I opted to output the doctors with a violation rate of less than 10%. "
   ]
  },
  {
   "cell_type": "code",
   "execution_count": 16,
   "id": "314549be",
   "metadata": {},
   "outputs": [
    {
     "name": "stdout",
     "output_type": "stream",
     "text": [
      "There are 1025 doctors out of 1899 who have a violation rate of <10%\n"
     ]
    }
   ],
   "source": [
    "Violations[Violations['Violation Rate']<10]\n",
    "print('There are',len(Violations[Violations['Violation Rate']<10]),'doctors out of', \\\n",
    "len(den),'who have a violation rate of <10%')"
   ]
  },
  {
   "cell_type": "markdown",
   "id": "4e3dd3ae",
   "metadata": {},
   "source": [
    "These are the doctors that should receive top ranking and to whom patients should be referred to by their primary care physicians. "
   ]
  },
  {
   "cell_type": "markdown",
   "id": "13df8753",
   "metadata": {},
   "source": [
    "# Predicting Future Doctor Performance"
   ]
  },
  {
   "cell_type": "markdown",
   "id": "f3029198",
   "metadata": {},
   "source": [
    "For this section, I will select the doctor with the most denominator patients as too few data points will not work and utilize the records to test which ML algorithm works the best with this data. "
   ]
  },
  {
   "cell_type": "code",
   "execution_count": 17,
   "id": "0c0a63db",
   "metadata": {},
   "outputs": [],
   "source": [
    "#imports for ML models\n",
    "import sklearn\n",
    "from sklearn.linear_model import LogisticRegression\n",
    "from sklearn.tree import DecisionTreeClassifier\n",
    "from sklearn import svm\n",
    "from sklearn.neighbors import KNeighborsClassifier\n",
    "from sklearn.model_selection import train_test_split\n",
    "from sklearn.metrics import accuracy_score\n",
    "from sklearn.metrics import precision_score\n",
    "from sklearn.metrics import recall_score\n",
    "from sklearn.metrics import plot_precision_recall_curve\n",
    "from sklearn.metrics import confusion_matrix"
   ]
  },
  {
   "cell_type": "code",
   "execution_count": 18,
   "id": "14dc5b3e",
   "metadata": {},
   "outputs": [],
   "source": [
    "doc=Violations.sort_values(by=['Denominator'],ascending=False).iloc[0].name\n",
    "#This is the doctor id for the doc with the most denominator patients"
   ]
  },
  {
   "cell_type": "code",
   "execution_count": 19,
   "id": "becb9952",
   "metadata": {},
   "outputs": [
    {
     "name": "stderr",
     "output_type": "stream",
     "text": [
      "<ipython-input-19-cb3669a12979>:4: SettingWithCopyWarning: \n",
      "A value is trying to be set on a copy of a slice from a DataFrame.\n",
      "Try using .loc[row_indexer,col_indexer] = value instead\n",
      "\n",
      "See the caveats in the documentation: https://pandas.pydata.org/pandas-docs/stable/user_guide/indexing.html#returning-a-view-versus-a-copy\n",
      "  X['label']=0\n",
      "C:\\Users\\Nasibul\\AppData\\Roaming\\Python\\Python39\\site-packages\\pandas\\core\\indexing.py:1637: SettingWithCopyWarning: \n",
      "A value is trying to be set on a copy of a slice from a DataFrame\n",
      "\n",
      "See the caveats in the documentation: https://pandas.pydata.org/pandas-docs/stable/user_guide/indexing.html#returning-a-view-versus-a-copy\n",
      "  self._setitem_single_block(indexer, value, name)\n",
      "C:\\Users\\Nasibul\\AppData\\Roaming\\Python\\Python39\\site-packages\\pandas\\core\\indexing.py:692: SettingWithCopyWarning: \n",
      "A value is trying to be set on a copy of a slice from a DataFrame\n",
      "\n",
      "See the caveats in the documentation: https://pandas.pydata.org/pandas-docs/stable/user_guide/indexing.html#returning-a-view-versus-a-copy\n",
      "  iloc._setitem_with_indexer(indexer, value, self.name)\n"
     ]
    }
   ],
   "source": [
    "#data wrangling for ML models. Need to create a labels column.\n",
    "X=denominator[denominator['doctor_id'].isin([doc])]\n",
    "surgeries=list(numerator.index)\n",
    "X['label']=0\n",
    "for i in range(0,len(surgeries)):\n",
    "    for j in range(0,len(X)):\n",
    "        if X['index'].iloc[j]==surgeries[i]:\n",
    "            X['label'].iloc[j]=1\n",
    "y=X['label']\n",
    "X=X.drop(['label','doctor_id','encounter_key','hospital_id','patient_id','claim_type_code'],axis=1)\n",
    "#dropping the labels column along with extraneous info\n",
    "X=X.replace(r'^\\s*$',0, regex=True)"
   ]
  },
  {
   "cell_type": "markdown",
   "id": "7573e590",
   "metadata": {},
   "source": [
    "## Logistic Regression"
   ]
  },
  {
   "cell_type": "code",
   "execution_count": 20,
   "id": "8444ba37",
   "metadata": {},
   "outputs": [
    {
     "name": "stdout",
     "output_type": "stream",
     "text": [
      "Accuracy score: 0.8969072164948454\n",
      "Precision score: 0.0\n",
      "Recall score: 0.0\n"
     ]
    },
    {
     "data": {
      "text/plain": [
       "array([[87,  1],\n",
       "       [ 9,  0]], dtype=int64)"
      ]
     },
     "execution_count": 20,
     "metadata": {},
     "output_type": "execute_result"
    }
   ],
   "source": [
    "lreg=LogisticRegression(random_state=5,n_jobs=-1)\n",
    "X_train, X_test, y_train, y_test=train_test_split(X,y,random_state=5)\n",
    "lreg.fit(X_train,y_train)\n",
    "pred_lreg=lreg.predict(X_test)\n",
    "print(\"Accuracy score:\",accuracy_score(y_test,pred_lreg))\n",
    "print(\"Precision score:\",precision_score(y_test,pred_lreg))\n",
    "print(\"Recall score:\",recall_score(y_test,pred_lreg))\n",
    "confusion_matrix(y_test,pred_lreg)"
   ]
  },
  {
   "cell_type": "code",
   "execution_count": 21,
   "id": "b2e72c5c",
   "metadata": {},
   "outputs": [
    {
     "name": "stderr",
     "output_type": "stream",
     "text": [
      "C:\\Users\\Nasibul\\AppData\\Roaming\\Python\\Python39\\site-packages\\sklearn\\utils\\deprecation.py:87: FutureWarning: Function plot_precision_recall_curve is deprecated; Function `plot_precision_recall_curve` is deprecated in 1.0 and will be removed in 1.2. Use one of the class methods: PrecisionRecallDisplay.from_predictions or PrecisionRecallDisplay.from_estimator.\n",
      "  warnings.warn(msg, category=FutureWarning)\n"
     ]
    },
    {
     "data": {
      "text/plain": [
       "<sklearn.metrics._plot.precision_recall_curve.PrecisionRecallDisplay at 0x176a1088f10>"
      ]
     },
     "execution_count": 21,
     "metadata": {},
     "output_type": "execute_result"
    },
    {
     "data": {
      "image/png": "[encoded data removed]",
      "text/plain": [
       "<Figure size 432x288 with 1 Axes>"
      ]
     },
     "metadata": {
      "needs_background": "light"
     },
     "output_type": "display_data"
    }
   ],
   "source": [
    "plot_precision_recall_curve(lreg, X_test,y_test,name='Logistic Regression')"
   ]
  },
  {
   "cell_type": "markdown",
   "id": "184d27ff",
   "metadata": {},
   "source": [
    "## Decision Tree"
   ]
  },
  {
   "cell_type": "code",
   "execution_count": 22,
   "id": "7ff28ff6",
   "metadata": {
    "scrolled": true
   },
   "outputs": [
    {
     "name": "stdout",
     "output_type": "stream",
     "text": [
      "Accuracy score: 0.9278350515463918\n",
      "Precision score: 0.6666666666666666\n",
      "Recall score: 0.4444444444444444\n"
     ]
    },
    {
     "data": {
      "text/plain": [
       "array([[86,  2],\n",
       "       [ 5,  4]], dtype=int64)"
      ]
     },
     "execution_count": 22,
     "metadata": {},
     "output_type": "execute_result"
    }
   ],
   "source": [
    "Dtree=DecisionTreeClassifier(random_state=5)\n",
    "Dtree.fit(X_train,y_train)\n",
    "pred_Dtree=Dtree.predict(X_test)\n",
    "print(\"Accuracy score:\",accuracy_score(y_test,pred_Dtree))\n",
    "print(\"Precision score:\",precision_score(y_test,pred_Dtree))\n",
    "print(\"Recall score:\",recall_score(y_test,pred_Dtree))\n",
    "confusion_matrix(y_test,pred_Dtree)"
   ]
  },
  {
   "cell_type": "code",
   "execution_count": 23,
   "id": "0a2061b5",
   "metadata": {},
   "outputs": [
    {
     "name": "stderr",
     "output_type": "stream",
     "text": [
      "C:\\Users\\Nasibul\\AppData\\Roaming\\Python\\Python39\\site-packages\\sklearn\\utils\\deprecation.py:87: FutureWarning: Function plot_precision_recall_curve is deprecated; Function `plot_precision_recall_curve` is deprecated in 1.0 and will be removed in 1.2. Use one of the class methods: PrecisionRecallDisplay.from_predictions or PrecisionRecallDisplay.from_estimator.\n",
      "  warnings.warn(msg, category=FutureWarning)\n"
     ]
    },
    {
     "data": {
      "text/plain": [
       "<sklearn.metrics._plot.precision_recall_curve.PrecisionRecallDisplay at 0x176a8206610>"
      ]
     },
     "execution_count": 23,
     "metadata": {},
     "output_type": "execute_result"
    },
    {
     "data": {
      "image/png": "[encoded data removed]",
      "text/plain": [
       "<Figure size 432x288 with 1 Axes>"
      ]
     },
     "metadata": {
      "needs_background": "light"
     },
     "output_type": "display_data"
    }
   ],
   "source": [
    "plot_precision_recall_curve(Dtree, X_test,y_test,name='Decision Tree')"
   ]
  },
  {
   "cell_type": "markdown",
   "id": "870bf200",
   "metadata": {},
   "source": [
    "## Support Vector Machine(SVM) "
   ]
  },
  {
   "cell_type": "code",
   "execution_count": 24,
   "id": "1611afb5",
   "metadata": {},
   "outputs": [
    {
     "name": "stdout",
     "output_type": "stream",
     "text": [
      "Accuracy score: 0.9072164948453608\n",
      "Precision score: 0.0\n",
      "Recall score: 0.0\n"
     ]
    },
    {
     "name": "stderr",
     "output_type": "stream",
     "text": [
      "C:\\Users\\Nasibul\\AppData\\Roaming\\Python\\Python39\\site-packages\\sklearn\\metrics\\_classification.py:1308: UndefinedMetricWarning: Precision is ill-defined and being set to 0.0 due to no predicted samples. Use `zero_division` parameter to control this behavior.\n",
      "  _warn_prf(average, modifier, msg_start, len(result))\n"
     ]
    },
    {
     "data": {
      "text/plain": [
       "array([[88,  0],\n",
       "       [ 9,  0]], dtype=int64)"
      ]
     },
     "execution_count": 24,
     "metadata": {},
     "output_type": "execute_result"
    }
   ],
   "source": [
    "SVM=svm.SVC(random_state=5)\n",
    "SVM.fit(X_train,y_train)\n",
    "pred_SVM=SVM.predict(X_test)\n",
    "print(\"Accuracy score:\",accuracy_score(y_test,pred_SVM))\n",
    "print(\"Precision score:\",precision_score(y_test,pred_SVM))\n",
    "print(\"Recall score:\",recall_score(y_test,pred_SVM))\n",
    "confusion_matrix(y_test,pred_SVM)"
   ]
  },
  {
   "cell_type": "code",
   "execution_count": 25,
   "id": "e0d2bbf2",
   "metadata": {},
   "outputs": [
    {
     "name": "stderr",
     "output_type": "stream",
     "text": [
      "C:\\Users\\Nasibul\\AppData\\Roaming\\Python\\Python39\\site-packages\\sklearn\\utils\\deprecation.py:87: FutureWarning: Function plot_precision_recall_curve is deprecated; Function `plot_precision_recall_curve` is deprecated in 1.0 and will be removed in 1.2. Use one of the class methods: PrecisionRecallDisplay.from_predictions or PrecisionRecallDisplay.from_estimator.\n",
      "  warnings.warn(msg, category=FutureWarning)\n"
     ]
    },
    {
     "data": {
      "text/plain": [
       "<sklearn.metrics._plot.precision_recall_curve.PrecisionRecallDisplay at 0x1769e5913d0>"
      ]
     },
     "execution_count": 25,
     "metadata": {},
     "output_type": "execute_result"
    },
    {
     "data": {
      "image/png": "[encoded data removed]",
      "text/plain": [
       "<Figure size 432x288 with 1 Axes>"
      ]
     },
     "metadata": {
      "needs_background": "light"
     },
     "output_type": "display_data"
    }
   ],
   "source": [
    "plot_precision_recall_curve(SVM, X_test,y_test,name='SVM')"
   ]
  },
  {
   "cell_type": "markdown",
   "id": "7c92bf05",
   "metadata": {},
   "source": [
    "## K Nearest Neighbor"
   ]
  },
  {
   "cell_type": "code",
   "execution_count": 26,
   "id": "d9d55946",
   "metadata": {},
   "outputs": [
    {
     "name": "stdout",
     "output_type": "stream",
     "text": [
      "Accuracy score: 0.9072164948453608\n",
      "Precision score: 0.0\n",
      "Recall score: 0.0\n"
     ]
    },
    {
     "name": "stderr",
     "output_type": "stream",
     "text": [
      "C:\\Users\\Nasibul\\AppData\\Roaming\\Python\\Python39\\site-packages\\sklearn\\metrics\\_classification.py:1308: UndefinedMetricWarning: Precision is ill-defined and being set to 0.0 due to no predicted samples. Use `zero_division` parameter to control this behavior.\n",
      "  _warn_prf(average, modifier, msg_start, len(result))\n"
     ]
    },
    {
     "data": {
      "text/plain": [
       "array([[88,  0],\n",
       "       [ 9,  0]], dtype=int64)"
      ]
     },
     "execution_count": 26,
     "metadata": {},
     "output_type": "execute_result"
    }
   ],
   "source": [
    "KNN=KNeighborsClassifier(n_neighbors=2)\n",
    "KNN.fit(X_train,y_train)\n",
    "pred_KNN=KNN.predict(X_test)\n",
    "print(\"Accuracy score:\",accuracy_score(y_test,pred_KNN))\n",
    "print(\"Precision score:\",precision_score(y_test,pred_KNN))\n",
    "print(\"Recall score:\",recall_score(y_test,pred_KNN))\n",
    "confusion_matrix(y_test,pred_KNN)"
   ]
  },
  {
   "cell_type": "code",
   "execution_count": 27,
   "id": "29f78fd9",
   "metadata": {},
   "outputs": [
    {
     "name": "stderr",
     "output_type": "stream",
     "text": [
      "C:\\Users\\Nasibul\\AppData\\Roaming\\Python\\Python39\\site-packages\\sklearn\\utils\\deprecation.py:87: FutureWarning: Function plot_precision_recall_curve is deprecated; Function `plot_precision_recall_curve` is deprecated in 1.0 and will be removed in 1.2. Use one of the class methods: PrecisionRecallDisplay.from_predictions or PrecisionRecallDisplay.from_estimator.\n",
      "  warnings.warn(msg, category=FutureWarning)\n"
     ]
    },
    {
     "data": {
      "text/plain": [
       "<sklearn.metrics._plot.precision_recall_curve.PrecisionRecallDisplay at 0x176bd917c10>"
      ]
     },
     "execution_count": 27,
     "metadata": {},
     "output_type": "execute_result"
    },
    {
     "data": {
      "image/png": "[encoded data removed]",
      "text/plain": [
       "<Figure size 432x288 with 1 Axes>"
      ]
     },
     "metadata": {
      "needs_background": "light"
     },
     "output_type": "display_data"
    }
   ],
   "source": [
    "plot_precision_recall_curve(KNN, X_test,y_test,name='KNN')"
   ]
  },
  {
   "cell_type": "markdown",
   "id": "d0917722",
   "metadata": {},
   "source": [
    "I chose these four ML algorithms because they excel at binary classification. All four got similar accuracy. However, for the average precision, Logistic Regression, SVM and KNN got very low scores while the Decision Tree did much better. Considering the confusion matrices, the first three models also did not pick up on any true negatives as well. There was simply not enough data to increase their accuracies. On top of this, the data is very imbalanced in terms of the binary classes. There were only 27 violations out of 409 patients for this doctor. "
   ]
  }
 ],
 "metadata": {
  "kernelspec": {
   "display_name": "Python 3",
   "language": "python",
   "name": "python3"
  },
  "language_info": {
   "codemirror_mode": {
    "name": "ipython",
    "version": 3
   },
   "file_extension": ".py",
   "mimetype": "text/x-python",
   "name": "python",
   "nbconvert_exporter": "python",
   "pygments_lexer": "ipython3",
   "version": "3.9.4"
  }
 },
 "nbformat": 4,
 "nbformat_minor": 5
}
